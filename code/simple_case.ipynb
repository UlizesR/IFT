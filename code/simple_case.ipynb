{
 "cells": [
  {
   "cell_type": "code",
   "execution_count": 1,
   "metadata": {},
   "outputs": [],
   "source": [
    "import numpy as np\n",
    "import matplotlib.pyplot as plt\n",
    "import math\n",
    "# import quad from scipy\n",
    "from scipy.integrate import quad\n",
    "from scipy.optimize import fsolve"
   ]
  },
  {
   "cell_type": "markdown",
   "metadata": {},
   "source": [
    "# IFT in  Practice: 1D case\n",
    "\n",
    "### Given $$ Q(x) = \\exp\\biggl[-\\frac{(x - x_{0})^{2}}{2\\sigma^{2}} - bx^{4}\\biggr] $$ $$P(x) = \\frac{Q(x)}{Z} = \\frac{e^{-H(x)}}{\\int_{-\\infty}^{\\infty}e^{-H(x)}dx}$$"
   ]
  },
  {
   "cell_type": "markdown",
   "metadata": {},
   "source": [
    "## Finding the Hamiltonian \n",
    "\n",
    "### We have that the Hamiltonian is given by: $$H(x) = -\\log(Q(x)) = \\frac{(x - x_{0})^{2}}{2\\sigma^{2}} + bx^{4} = \\frac{x^2 - 2xx_{0} + x_{0}^{2}}{2\\sigma^{2}} + bx^{4}$$\n",
    "\n",
    "### Taking the Taylor Expansion of the Hamiltonian is: $$H(x) = H(0) + H'(0) + H''(0) + \\sum_{n=3}^{\\infty} \\frac{1}{n!}H^{(n)}(0)$$\n",
    "\n",
    "### Where $$H(0) = \\frac{x_{0}^{2}}{2\\sigma^{2}}$$ $$H'(0) = -\\frac{x_{0}}{\\sigma^{2}}$$ $$H''(0) = \\frac{1}{\\sigma^{2}}$$ $$H^{(4)}(0) = 4!b$$ $$H^{(n) \\geq 5} = H^{(n) = 3} = 0$$\n",
    "\n",
    "### So we get $$H(x) = \\frac{x_{0}^{2}}{2\\sigma^{2}} -\\frac{x_{0}}{\\sigma^{2}}x + \\frac{1}{\\sigma^{2}}\\frac{x^{2}}{2!} + bx^{4}$$"
   ]
  },
  {
   "cell_type": "code",
   "execution_count": 2,
   "metadata": {},
   "outputs": [],
   "source": [
    "def Hamiltonian(x:float, a: float , sigma: float, b: float) -> float:\n",
    "    H0 = (0.5 * a**2) / sigma**2\n",
    "    H1 =  -((a) * x) / (sigma**2)\n",
    "    H2 = (x**2) / (2 * sigma**2) \n",
    "    H4 = b * (x**4)\n",
    "\n",
    "    return H0 + H1 + H2 + H4\n",
    "\n",
    "def HamiltonianPrime(x:float, a: float, sigma: float, b: float) -> float:\n",
    "    H1 =  - a/ (sigma**2)\n",
    "    H2 = x / (sigma**2) \n",
    "    H4 = 4 * b * (x**3)\n",
    "    return H1 + H2 + H4\n",
    "\n",
    "def HamiltonianPrime2(x:float, a: float, sigma: float, b: float) -> float:\n",
    "    return 12*b*x**2 + (1/sigma**2)\n",
    "\n",
    "def MAP(xguess: float, sigma: float, b: float, a:float) -> float:\n",
    "    map = fsolve(HamiltonianPrime, x0 = xguess, args=(a, sigma, b))\n",
    "    return map \n",
    "\n",
    "def Q(x:float, x0: float, sigma: float, b: float) -> float:\n",
    "    H = Hamiltonian(x, x0, sigma, b)\n",
    "    return np.exp(-H)"
   ]
  },
  {
   "cell_type": "code",
   "execution_count": 3,
   "metadata": {},
   "outputs": [],
   "source": [
    "a = 1\n",
    "b = 0.01\n",
    "sig = 0.5\n",
    "map = MAP(1.2,sig,b,a)"
   ]
  },
  {
   "cell_type": "code",
   "execution_count": 4,
   "metadata": {},
   "outputs": [],
   "source": [
    "H0map = Hamiltonian(map,a,sig,b)\n",
    "j = HamiltonianPrime(map,a,sig,b)   \n",
    "Dinv = HamiltonianPrime2(map,a,sig,b)\n",
    "D = Dinv**-1\n",
    "lambda3 = 24*b*map\n",
    "lambda4 = 24*b\n",
    "circ = 0.5*np.log(2*math.pi*D)\n"
   ]
  },
  {
   "cell_type": "code",
   "execution_count": 5,
   "metadata": {},
   "outputs": [
    {
     "name": "stdout",
     "output_type": "stream",
     "text": [
      "[1.2256017]\n"
     ]
    }
   ],
   "source": [
    "Log_Zift = -H0map + circ + (1/8)*(D**2)*lambda4 + (1/8)*(D**3)*(lambda3**2) + (1/12)*(D**3)*(lambda3**2) + (1/96)*(D**4)*(lambda4**2) + (1/48)*(D**4)*(lambda4**2) \n",
    "Zift = np.exp(Log_Zift)\n",
    "print(Zift)"
   ]
  },
  {
   "cell_type": "code",
   "execution_count": 6,
   "metadata": {},
   "outputs": [
    {
     "name": "stdout",
     "output_type": "stream",
     "text": [
      "Z quad: 1.2212778921005218\n"
     ]
    }
   ],
   "source": [
    "Zquad, err = quad(Q, -np.inf, np.inf, args=(a, sig, b))\n",
    "print(f'Z quad: {Zquad}')"
   ]
  },
  {
   "cell_type": "code",
   "execution_count": 7,
   "metadata": {},
   "outputs": [
    {
     "data": {
      "image/png": "[encoded data removed]",
      "text/plain": [
       "<Figure size 640x480 with 1 Axes>"
      ]
     },
     "metadata": {},
     "output_type": "display_data"
    }
   ],
   "source": [
    "x = np.linspace(-10, 5, 1000)\n",
    "Q = [np.exp(-Hamiltonian(a, xi, sig, b)) for xi in x]\n",
    "P2 = [q / Zift for q in Q]\n",
    "P3 = [q / Zquad for q in Q]\n",
    "plt.plot(x, P2, label='H(x) IFT')\n",
    "plt.plot(x, P3, label='H(x) ANL')\n",
    "# plt.plot(x, P3, label='H(x) Quad')\n",
    "plt.legend()\n",
    "plt.show()"
   ]
  },
  {
   "cell_type": "code",
   "execution_count": null,
   "metadata": {},
   "outputs": [],
   "source": []
  }
 ],
 "metadata": {
  "kernelspec": {
   "display_name": ".venv",
   "language": "python",
   "name": "python3"
  },
  "language_info": {
   "codemirror_mode": {
    "name": "ipython",
    "version": 3
   },
   "file_extension": ".py",
   "mimetype": "text/x-python",
   "name": "python",
   "nbconvert_exporter": "python",
   "pygments_lexer": "ipython3",
   "version": "3.11.10"
  }
 },
 "nbformat": 4,
 "nbformat_minor": 2
}

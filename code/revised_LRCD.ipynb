{
 "cells": [
  {
   "cell_type": "code",
   "execution_count": 94,
   "metadata": {},
   "outputs": [],
   "source": [
    "# Basic imports\n",
    "import matplotlib.pyplot as plt\n",
    "import numpy as np\n",
    "import itertools\n",
    "# PyMC imports\n",
    "import pymc as pm\n",
    "import arviz as az\n",
    "import seaborn as sb\n",
    "# Scipy imports\n",
    "from scipy.optimize import fsolve\n",
    "from scipy.integrate import nquad, quad\n",
    "from scipy.stats import norm\n",
    "# other\n",
    "import harmonic as hm"
   ]
  },
  {
   "cell_type": "markdown",
   "metadata": {},
   "source": [
    "## Harmonic Mean Estimator\n",
    "\n",
    "### $$ \\rho = \\mathbb{E}_{p(\\theta \\mid y)}\\biggl[ \\frac{1}{\\mathcal{L}(\\theta)} \\biggr] = \\int d\\theta \\frac{1}{\\mathcal{L}(\\theta)}p(\\theta \\mid y) = \\int \\frac{1}{\\mathcal{L}(\\theta)} \\frac{\\mathcal{L}(\\theta)\\pi(\\theta)}{z} = \\frac{1}{z} $$\n"
   ]
  },
  {
   "cell_type": "code",
   "execution_count": 95,
   "metadata": {},
   "outputs": [],
   "source": [
    "def HME_V(likelihood, prior):\n",
    "    pass \n",
    "\n",
    "def HME(L, P):\n",
    "    pass"
   ]
  },
  {
   "cell_type": "markdown",
   "metadata": {},
   "source": [
    "Given a Bayesian Linear Regression model\n",
    "$$\n",
    "y_{i} = x_{i}\\mathbf{\\theta_{1}} + \\epsilon\n",
    "$$\n",
    "\n",
    "Our parameter space is $\\mathbf{\\Theta} = \\{\\mathbf{\\theta_{1}}, \\log(\\sigma^{2})\\} \\equiv \\{\\mathbf{\\theta_{1}}, \\theta_{2}\\}$\n",
    "\n",
    "We have that the likilihood is given by\n",
    "$$\n",
    "P(\\mathbf{y}|\\mathbf{\\Theta}) = P(\\mathbf{y}|\\mathbf{X, \\Theta}) = \\frac{1}{(\\sqrt{2\\pi})^{N}\\sqrt{\\sigma^{2}}}\\exp\\biggl[-\\frac{(\\mathbf{y} - \\mathbf{X\\theta_{1}})^{T}(\\mathbf{y} - \\mathbf{X\\theta_{1}})}{2\\sigma^{2}} \\biggr]\n",
    "$$\n",
    "\n",
    "Our prior is given by\n",
    "$$\n",
    "P(\\mathbf{\\Theta}) = \\frac{1}{(\\sqrt{2\\pi})^{N}\\sqrt{|S_{1}|}}\\exp\\biggl[-\\frac{\\mathbf{\\theta_{1}}^{T}\\mathbf{\\theta_{1}}}{2S_{1}}\\biggr]\\frac{1}{(\\sqrt{2\\pi})^{N}\\sqrt{\\sigma_{2}^{2}}}\\exp\\biggl[-\\frac{\\theta_{2}^{2}}{2\\sigma_{2}^{2}}\\biggr]\n",
    "$$\n",
    "\n",
    "The Hamiltonian is\n",
    "\\begin{align*}\n",
    "H(\\mathbf{\\Theta}) &= -\\log(P(\\mathbf{y}|\\mathbf{\\Theta})P(\\mathbf{\\Theta})) \\\\\n",
    "&= -\\log\\biggl(\\frac{1}{(\\sqrt{2\\pi})^{N}\\sqrt{\\sigma^{2}}}\\exp\\biggl[-\\frac{(\\mathbf{y} - \\mathbf{X\\theta_{1}})^{T}(\\mathbf{y} - \\mathbf{X\\theta_{1}})}{2\\sigma^{2}} \\biggr]\\frac{1}{(\\sqrt{2\\pi})^{N}\\sqrt{|S_{1}|}}\\exp\\biggl[-\\frac{\\mathbf{\\theta_{1}}^{T}\\mathbf{\\theta_{1}}}{2S_{1}}\\biggr]\\frac{1}{(\\sqrt{2\\pi})^{N}\\sqrt{\\sigma_{2}^{2}}}\\exp\\biggl[-\\frac{\\theta_{2}^{2}}{2\\sigma_{2}^{2}}\\biggr]\\biggr) \\\\\n",
    "&= -\\log\\biggl(\\frac{1}{(\\sqrt{2\\pi})^{N}\\sqrt{\\sigma^{2}}}\\frac{1}{(\\sqrt{2\\pi})^{N}\\sqrt{|S_{1}|}}\\frac{1}{(\\sqrt{2\\pi})^{N}\\sqrt{\\sigma_{2}^{2}}}\\exp\\biggl[-\\frac{(\\mathbf{y} - \\mathbf{X\\theta_{1}})^{T}(\\mathbf{y} - \\mathbf{X\\theta_{1}})}{2\\sigma^{2}} \\biggr]\\exp\\biggl[-\\frac{\\mathbf{\\theta_{1}}^{T}\\mathbf{\\theta_{1}}}{2S_{1}}\\biggr]\\exp\\biggl[-\\frac{\\theta_{2}^{2}}{2\\sigma_{2}^{2}}\\biggr]\\biggr) \\\\\n",
    "&= -\\log\\biggl(\\frac{1}{(\\sqrt{2\\pi})^{3N}}\\frac{1}{\\sqrt{\\sigma^{2}|S_{1}|\\sigma_{2}^{2}}}\\exp\\biggl[-\\frac{(\\mathbf{y} - \\mathbf{X\\theta_{1}})^{T}(\\mathbf{y} - \\mathbf{X\\theta_{1}})}{2\\sigma^{2}} \\biggr]\\exp\\biggl[-\\frac{\\mathbf{\\theta_{1}}^{T}\\mathbf{\\theta_{1}}}{2S_{1}}\\biggr]\\exp\\biggl[-\\frac{\\theta_{2}^{2}}{2\\sigma_{2}^{2}}\\biggr]\\biggr) \\\\\n",
    "&= \\frac{N}{2}3\\log(2\\pi) + \\frac{1}{2}(\\log(\\sigma^{2}) + \\log(|S_{1}|) + \\log(\\sigma_{2}^{2})) + \\frac{(\\mathbf{y} - \\mathbf{X\\theta_{1}})^{T}(\\mathbf{y} - \\mathbf{X\\theta_{1}})}{2\\sigma^{2}} + \\frac{\\mathbf{\\theta_{1}}^{T}\\mathbf{\\theta_{1}}}{2S_{1}} + \\frac{\\theta_{2}^{2}}{2\\sigma_{2}^{2}} \\\\\n",
    "&= \\frac{N}{2}3\\log(2\\pi) + \\frac{1}{2}(\\theta_{2} + \\log(|S_{1}|) + \\log(\\sigma_{2}^{2})) + \\frac{1}{2}\\biggl((\\mathbf{y} - \\mathbf{X\\theta_{1}})^{T}\\exp(-\\theta_{2})(\\mathbf{y} - \\mathbf{X\\theta_{1}}) + \\frac{\\mathbf{\\theta_{1}}^{T}\\mathbf{\\theta_{1}}}{S_{1}} + \\frac{\\theta_{2}^{2}}{\\sigma_{2}^{2}}\\biggr) \\\\\n",
    "&= \\frac{N}{2}3\\log(2\\pi) + \\frac{1}{2}(\\theta_{2} + \\log(|S_{1}|) + \\log(\\sigma_{2}^{2})) + \\frac{1}{2}\\biggl(\\exp(-\\theta_{2})(\\mathbf{y}^{T}\\mathbf{y} - 2(\\mathbf{\\theta_{1}X})^{T}\\mathbf{y} + (\\mathbf{\\theta_{1}X})^{T}\\mathbf{\\theta_{1}X}) + \\frac{\\mathbf{\\theta_{1}}^{T}\\mathbf{\\theta_{1}}}{S_{1}} + \\frac{\\theta_{2}^{2}}{\\sigma_{2}^{2}}\\biggr)\n",
    "\\end{align*}"
   ]
  },
  {
   "cell_type": "code",
   "execution_count": 96,
   "metadata": {},
   "outputs": [],
   "source": [
    "def Hamiltoninan(THETA: np.ndarray, MODEL: np.ndarray) -> np.ndarray:\n",
    "    # tht1 would be a vector of thetas\n",
    "    # but in this case, its just a single value\n",
    "    tht1 = THETA[0]\n",
    "    tht2 = THETA[1]\n",
    "\n",
    "    # x_ should be a matrix\n",
    "    x_mat = MODEL[0]\n",
    "    y_vec = MODEL[1]\n",
    "    # Should be a covariance matrix\n",
    "    # but in this case, its just a scalar\n",
    "    s_1 = MODEL[2]\n",
    "    # sig1 = MODEL[3]\n",
    "    sig2 = MODEL[4]\n",
    "    sig2 = sig2**2\n",
    "\n",
    "    y_hat = y_vec - (tht1*x_mat)\n",
    "\n",
    "    N = len(y_vec)\n",
    "\n",
    "    log_terms = ( N * 3 *np.log(2*np.pi)) + ( np.log(s_1) + np.log(sig2))\n",
    "    exp_term = np.exp(-tht2)* (y_hat.T @ y_hat)\n",
    "    prior_terms = ((tht1**2)/s_1) + ((tht2**2)/sig2)\n",
    "\n",
    "    H = 0.5 * (log_terms + exp_term + prior_terms)\n",
    "\n",
    "    return np.array([H])"
   ]
  },
  {
   "cell_type": "markdown",
   "metadata": {},
   "source": [
    "Taking the derivative of the Hamiltonian we get\n",
    "$$\n",
    "\\nabla H(\\mathbf{\\Theta}) = \\biggl\\langle \\frac{\\partial H}{\\partial \\mathbf{\\theta_{1}}}, \\frac{\\partial H}{\\partial \\theta_{2}} \\biggr\\rangle \n",
    "$$\n",
    "Taking the derivative with respect to $\\mathbf{\\theta_{1}}$\n",
    "\\begin{align*}\n",
    "\\frac{\\partial H}{\\partial \\mathbf{\\theta_{1}}} &= \\frac{1}{2}\\biggl(\\exp(-\\theta_{2})( - 2X^{T}\\mathbf{y} + 2\\mathbf{X}^{T}\\mathbf{\\theta_{1}X}) + 2\\frac{\\mathbf{\\theta_{1}}}{S_{1}} \\biggr) \\\\\n",
    "&= -\\exp(-\\theta_{2})( \\mathbf{X}^{T}(\\mathbf{y} - \\mathbf{X}\\mathbf{\\theta_{1}})) + \\frac{\\mathbf{\\theta_{1}}}{S_{1}} \\\\\n",
    "&= -\\exp(-\\theta_{2}) \\mathbf{X}^{T}\\hat{\\mathbf{y}} + \\frac{\\mathbf{\\theta_{1}}}{S_{1}}\n",
    "\\end{align*}\n",
    "\n",
    "Taking the derivative with respect to $\\theta_{1}$\n",
    "\\begin{align*}\n",
    "\\frac{\\partial H}{\\partial \\theta_{2}} &=  \\frac{N}{2} - \\frac{1}{2}(\\mathbf{y} - \\mathbf{X\\theta_{1}})^{T}\\exp(-\\theta_{2})(\\mathbf{y} - \\mathbf{X\\theta_{1}}) + \\frac{\\theta_{2}}{\\sigma_{2}^{2}} \\\\ \n",
    "&= -\\frac{\\exp(-\\theta_{2})}{2}\\hat{\\mathbf{y}}^{T}\\hat{\\mathbf{y}} + \\frac{N}{2}+ \\frac{\\theta_{2}}{\\sigma_{2}^{2}}\n",
    "\\end{align*}\n",
    "\n",
    "So we have that \n",
    "$$\n",
    "\\nabla H(\\mathbf{\\Theta}) = \\biggl\\langle -\\exp(-\\theta_{2}) \\mathbf{X}^{T}\\hat{\\mathbf{y}} + \\frac{\\mathbf{\\theta_{1}}}{S_{1}}, -\\frac{\\exp(-\\theta_{2})}{2}\\hat{\\mathbf{y}}^{T}\\hat{\\mathbf{y}} + \\frac{N}{2} + \\frac{\\theta_{2}}{\\sigma_{2}^{2}} \\biggr\\rangle \n",
    "$$"
   ]
  },
  {
   "cell_type": "code",
   "execution_count": null,
   "metadata": {},
   "outputs": [],
   "source": []
  },
  {
   "cell_type": "markdown",
   "metadata": {},
   "source": [
    "In the case that $\\sigma$ is known\n",
    "\n",
    "$$\n",
    " H(\\mathbf{\\Theta}) = \\frac{N}{2}3\\log(2\\pi) + \\frac{1}{2}(\\log(\\sigma^{2}) + \\log(|S_{1}|) + \\log(\\sigma_{2}^{2})) + \\frac{1}{2}\\biggl(\\frac{(\\mathbf{y}^{T}\\mathbf{y} - 2(\\mathbf{\\theta_{1}X})^{T}\\mathbf{y} + (\\mathbf{\\theta_{1}X})^{T}\\mathbf{\\theta_{1}X})}{\\sigma^{2}} + \\frac{\\mathbf{\\theta_{1}}^{T}\\mathbf{\\theta_{1}}}{S_{1}} + \\frac{\\log(\\sigma^{2})^{2}}{\\sigma_{2}^{2}}\\biggr)\n",
    "$$"
   ]
  },
  {
   "cell_type": "code",
   "execution_count": 97,
   "metadata": {},
   "outputs": [],
   "source": [
    "def Hamiltoninan1D(THETA: np.ndarray, MODEL: np.ndarray) -> np.ndarray:\n",
    "    tht1 = THETA\n",
    "\n",
    "    x_mat = MODEL[0]\n",
    "    y_vec = MODEL[1]\n",
    "    s_1 = MODEL[2]\n",
    "    sig1 = MODEL[3]\n",
    "    sig1 = sig1**2\n",
    "    sig2 = MODEL[4]\n",
    "    sig2 = sig2**2\n",
    "\n",
    "    y_hat = y_vec - (tht1*x_mat)\n",
    "\n",
    "    N = len(y_vec)\n",
    "\n",
    "    log_terms = ( N * 3 *np.log(2*np.pi)) + ( np.log(s_1) + np.log(sig2))\n",
    "    exp_term = (y_hat.T @ y_hat) / sig2\n",
    "    prior_terms = ((tht1.T @ tht1)/s_1) + ((np.log(sig1)**2 )/ sig2)\n",
    "\n",
    "    H = 0.5 * (log_terms + exp_term + prior_terms)\n",
    "\n",
    "    return np.array([H])"
   ]
  },
  {
   "cell_type": "markdown",
   "metadata": {},
   "source": [
    "Taking the derivative with respect to $\\mathbf{\\theta_{1}}$\n",
    "\\begin{align*}\n",
    "\\frac{\\partial H}{\\partial \\mathbf{\\theta_{1}}} &= \\frac{1}{2}\\biggl(\\frac{( - 2X^{T}\\mathbf{y} + 2\\mathbf{X}^{T}\\mathbf{\\theta_{1}X})}{\\sigma^{2}} + 2\\frac{\\mathbf{\\theta_{1}}}{S_{1}} \\biggr) \\\\\n",
    "&= -\\frac{(\\mathbf{X}^{T}(\\mathbf{y} - \\mathbf{X}\\mathbf{\\theta_{1}}))}{\\sigma^{2}} + \\frac{\\mathbf{\\theta_{1}}}{S_{1}} \\\\\n",
    "&= -\\frac{\\mathbf{X}^{T}\\hat{\\mathbf{y}}}{\\sigma^{2}} + \\frac{\\mathbf{\\theta_{1}}}{S_{1}}\n",
    "\\end{align*}"
   ]
  },
  {
   "cell_type": "code",
   "execution_count": 98,
   "metadata": {},
   "outputs": [],
   "source": [
    "def HamiltoninanPrime1D(THETA: np.ndarray, MODEL: np.ndarray) -> np.ndarray:\n",
    "    # tht1 would be a vector of thetas\n",
    "    # but in this case, its just a single value\n",
    "    tht1 = THETA[0]\n",
    "\n",
    "    # x_ should be a matrix\n",
    "    x_mat = MODEL[0]\n",
    "    y_vec = MODEL[1]\n",
    "    # Should be a covariance matrix\n",
    "    # but in this case, its just a scalar\n",
    "    s_1 = MODEL[2]\n",
    "    sig1 = MODEL[3]\n",
    "    sig1 = sig1**2\n",
    "\n",
    "    y_hat = y_vec - (tht1*x_mat)\n",
    "\n",
    "    term1 = -x_mat.T @ y_hat\n",
    "    term1 /= sig1\n",
    "\n",
    "    return np.array([term1 + (tht1 / s_1)])"
   ]
  },
  {
   "cell_type": "markdown",
   "metadata": {},
   "source": [
    "Taking the second derivative we get\n",
    "\n",
    "\\begin{align*}\n",
    "\\frac{\\partial^{2} H}{\\partial \\mathbf{\\theta_{1}}^{2}} &= \\frac{\\mathbf{X}^{T}\\mathbf{X}}{\\sigma^{2}} + \\frac{1}{S_{1}}\\\\\n",
    "\\end{align*}"
   ]
  },
  {
   "cell_type": "code",
   "execution_count": 99,
   "metadata": {},
   "outputs": [],
   "source": [
    "def HamiltoninanDPrime1D(THETA: np.ndarray, MODEL: np.ndarray) -> np.ndarray:\n",
    "    # tht1 would be a vector of thetas\n",
    "    # but in this case, its just a single value\n",
    "    tht1 = THETA[0]\n",
    "\n",
    "    # x_ should be a matrix\n",
    "    x_mat = MODEL[0]\n",
    "    y_vec = MODEL[1]\n",
    "    # Should be a covariance matrix\n",
    "    # but in this case, its just a scalar\n",
    "    s_1 = MODEL[2]\n",
    "    sig1 = MODEL[3]\n",
    "    sig1 = sig1**2\n",
    "\n",
    "    return np.array([((x_mat.T @ x_mat) / sig1) + (1 / s_1)])"
   ]
  },
  {
   "cell_type": "markdown",
   "metadata": {},
   "source": [
    "We aim to find the Maximum A Posteriori (MAP) estimate, which is the point where the gradient of the Hamiltonian, ( H(\\mathbf{\\Theta}) ), is zero:\n",
    "\n",
    "$$ \\nabla H(\\mathbf{\\Theta}) = 0 $$\n",
    "\n",
    "At this point, the MAP values $ \\mathbf{\\theta_{10}} $ and $ \\theta_{20} $ make the first derivative zero.\n",
    "\n",
    "If the standard deviation $ \\sigma $ is known, we can solve for $ \\mathbf{\\theta_{10}} $ without needing $ \\theta_{20} $, as $ \\sigma $ is known. This simplifies our system to one dimension:\n",
    "\n",
    "\\begin{align*} \n",
    "\\frac{\\partial H}{\\partial \\mathbf{\\theta_{1}}} &= 0 \\\\\n",
    "&= -\\frac{\\mathbf{X}^{T}(\\mathbf{y} - \\mathbf{X}\\mathbf{\\theta_{10}})}{\\sigma^{2}} + \\frac{\\mathbf{\\theta_{10}}}{S_{1}} \\\\\n",
    "&= \\frac{-\\mathbf{X}^{T}\\mathbf{y} + \\mathbf{X}^{T}X\\mathbf{\\theta_{10}}}{\\sigma^{2}} + \\frac{\\mathbf{\\theta_{10}}}{S_{1}} \\\\ \n",
    "&= -\\frac{\\mathbf{X}^{T}\\mathbf{y}}{\\sigma^{2}} + \\mathbf{\\theta_{10}}\\left(\\frac{\\mathbf{X}^{T}\\mathbf{X}}{\\sigma^{2}} + \\frac{1}{S_{1}}\\right) \n",
    "\\end{align*} \n",
    "\n",
    "Thus we have\n",
    "$$\n",
    "\\mathbf{\\theta}_{10} = \\frac{\\mathbf{X}^{T}\\mathbf{y}}{\\sigma^{2}}\\left(\\frac{\\mathbf{X}^{T}\\mathbf{X}}{\\sigma^{2}} + \\frac{1}{S_{1}}\\right) ^{-1}\n",
    "$$"
   ]
  },
  {
   "cell_type": "code",
   "execution_count": 100,
   "metadata": {},
   "outputs": [],
   "source": [
    "def MAP_SOLUTIONS( MODEL: np.ndarray) -> np.ndarray:\n",
    "    x_mat = MODEL[0]\n",
    "    y_vec = MODEL[1]\n",
    "    s_1 = MODEL[2]\n",
    "    sig1 = MODEL[3]\n",
    "    sig1 = sig1**2\n",
    "\n",
    "    inv_term = ((x_mat.T @ x_mat) / sig1) + (1/s_1)\n",
    "    inv_term = 1 / inv_term\n",
    "    map_tht = inv_term * (x_mat.T @ y_vec) / sig1\n",
    "\n",
    "    return np.array([map_tht])\n"
   ]
  },
  {
   "cell_type": "code",
   "execution_count": 101,
   "metadata": {},
   "outputs": [],
   "source": [
    "np.random.seed(42)\n",
    "N = 200\n",
    "X_vec = np.random.uniform(-10,10,N)\n",
    "true_beta = 2\n",
    "true_sigma = 5\n",
    "epsilon = np.random.randn(N) * true_sigma\n",
    "y_vec = X_vec * true_beta + epsilon\n",
    "S_1 = 400\n",
    "sig2 = 10"
   ]
  },
  {
   "cell_type": "code",
   "execution_count": 102,
   "metadata": {},
   "outputs": [
    {
     "data": {
      "text/plain": [
       "array([1.97741588])"
      ]
     },
     "execution_count": 102,
     "metadata": {},
     "output_type": "execute_result"
    }
   ],
   "source": [
    "map_sol = MAP_SOLUTIONS([X_vec, y_vec, S_1, true_sigma, sig2])\n",
    "map_sol"
   ]
  },
  {
   "cell_type": "code",
   "execution_count": 103,
   "metadata": {},
   "outputs": [
    {
     "data": {
      "text/plain": [
       "array([5.74809297e-14])"
      ]
     },
     "execution_count": 103,
     "metadata": {},
     "output_type": "execute_result"
    }
   ],
   "source": [
    "j = -HamiltoninanPrime1D(map_sol, [X_vec, y_vec, S_1, true_sigma, sig2])\n",
    "j"
   ]
  },
  {
   "cell_type": "code",
   "execution_count": 104,
   "metadata": {},
   "outputs": [],
   "source": [
    "Dinv = HamiltoninanDPrime1D(map_sol, [X_vec, y_vec, S_1, true_sigma, sig2])\n",
    "D = 1 / Dinv"
   ]
  },
  {
   "cell_type": "code",
   "execution_count": 105,
   "metadata": {},
   "outputs": [
    {
     "data": {
      "text/plain": [
       "array([580.17291046])"
      ]
     },
     "execution_count": 105,
     "metadata": {},
     "output_type": "execute_result"
    }
   ],
   "source": [
    "H0map = Hamiltoninan1D(map_sol, [X_vec, y_vec, S_1, true_sigma, sig2])\n",
    "H0map"
   ]
  },
  {
   "cell_type": "code",
   "execution_count": 106,
   "metadata": {},
   "outputs": [
    {
     "data": {
      "text/plain": [
       "array([-3.78868142])"
      ]
     },
     "execution_count": 106,
     "metadata": {},
     "output_type": "execute_result"
    }
   ],
   "source": [
    "circ = np.log(2 * np.pi * D)\n",
    "circ"
   ]
  },
  {
   "cell_type": "code",
   "execution_count": 107,
   "metadata": {},
   "outputs": [
    {
     "name": "stdout",
     "output_type": "stream",
     "text": [
      "[-583.96159188]\n",
      "[2.44738901e-254]\n"
     ]
    }
   ],
   "source": [
    "logZ = -H0map + circ\n",
    "print(logZ)\n",
    "Z = np.exp(logZ)\n",
    "print(Z)"
   ]
  },
  {
   "cell_type": "code",
   "execution_count": 108,
   "metadata": {},
   "outputs": [],
   "source": [
    "def Q(THETA: np.ndarray, MODEL: np.ndarray) -> np.ndarray:\n",
    "    theta = np.array([THETA])\n",
    "    H = Hamiltoninan1D(theta, MODEL)\n",
    "    return np.exp(-H)"
   ]
  },
  {
   "cell_type": "code",
   "execution_count": 109,
   "metadata": {},
   "outputs": [
    {
     "name": "stdout",
     "output_type": "stream",
     "text": [
      "2.4007830063973078e-253\n",
      "-581.6782335906829\n"
     ]
    }
   ],
   "source": [
    "N_Z, _ = nquad(Q, [[-np.inf, np.inf]], args=[[X_vec, y_vec, S_1, true_sigma, sig2]])\n",
    "print(N_Z)\n",
    "print(np.log(N_Z))"
   ]
  },
  {
   "cell_type": "code",
   "execution_count": 110,
   "metadata": {},
   "outputs": [
    {
     "name": "stderr",
     "output_type": "stream",
     "text": [
      "/var/folders/xv/8r23mzm112ggs6n6_tvn5cn00000gn/T/ipykernel_81850/220309348.py:6: DeprecationWarning: Conversion of an array with ndim > 0 to a scalar is deprecated, and will error in future. Ensure you extract a single element from your array before performing this operation. (Deprecated NumPy 1.25.)\n",
      "  Q_vals[i] = Q(thetas[i], [X_vec, y_vec, S_1, true_sigma, sig2])\n"
     ]
    },
    {
     "data": {
      "image/png": "[encoded data removed]",
      "text/plain": [
       "<Figure size 640x480 with 1 Axes>"
      ]
     },
     "metadata": {},
     "output_type": "display_data"
    }
   ],
   "source": [
    "# plot the likelihood\n",
    "thetas = np.linspace(-10, 10, N)\n",
    "\n",
    "Q_vals = np.zeros(N)\n",
    "for i in range(N):\n",
    "    Q_vals[i] = Q(thetas[i], [X_vec, y_vec, S_1, true_sigma, sig2])\n",
    "    Q_vals[i] /= N_Z\n",
    "\n",
    "plt.plot(thetas, Q_vals)\n",
    "plt.show()"
   ]
  },
  {
   "cell_type": "code",
   "execution_count": 112,
   "metadata": {},
   "outputs": [
    {
     "name": "stderr",
     "output_type": "stream",
     "text": [
      "/var/folders/xv/8r23mzm112ggs6n6_tvn5cn00000gn/T/ipykernel_81850/21293745.py:2: DeprecationWarning: Conversion of an array with ndim > 0 to a scalar is deprecated, and will error in future. Ensure you extract a single element from your array before performing this operation. (Deprecated NumPy 1.25.)\n",
      "  Q_vals[i] = Q(thetas[i], [X_vec, y_vec, S_1, true_sigma, sig2])\n",
      "/var/folders/xv/8r23mzm112ggs6n6_tvn5cn00000gn/T/ipykernel_81850/21293745.py:3: DeprecationWarning: Conversion of an array with ndim > 0 to a scalar is deprecated, and will error in future. Ensure you extract a single element from your array before performing this operation. (Deprecated NumPy 1.25.)\n",
      "  Q_vals[i] /= Z\n"
     ]
    },
    {
     "data": {
      "image/png": "[encoded data removed]",
      "text/plain": [
       "<Figure size 640x480 with 1 Axes>"
      ]
     },
     "metadata": {},
     "output_type": "display_data"
    }
   ],
   "source": [
    "for i in range(N):\n",
    "    Q_vals[i] = Q(thetas[i], [X_vec, y_vec, S_1, true_sigma, sig2])\n",
    "    Q_vals[i] /= Z\n",
    "\n",
    "plt.plot(thetas, Q_vals)\n",
    "plt.show()"
   ]
  },
  {
   "cell_type": "code",
   "execution_count": null,
   "metadata": {},
   "outputs": [],
   "source": []
  }
 ],
 "metadata": {
  "kernelspec": {
   "display_name": ".venv",
   "language": "python",
   "name": "python3"
  },
  "language_info": {
   "codemirror_mode": {
    "name": "ipython",
    "version": 3
   },
   "file_extension": ".py",
   "mimetype": "text/x-python",
   "name": "python",
   "nbconvert_exporter": "python",
   "pygments_lexer": "ipython3",
   "version": "3.11.10"
  }
 },
 "nbformat": 4,
 "nbformat_minor": 2
}

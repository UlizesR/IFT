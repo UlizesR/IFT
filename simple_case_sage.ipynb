{
 "cells": [
  {
   "cell_type": "code",
   "execution_count": 2,
   "metadata": {},
   "outputs": [
    {
     "data": {
      "text/plain": [
       "b*x^4 + 1/2*x^2/s^2 - x*x0/s^2 + 1/2*x0^2/s^2"
      ]
     },
     "execution_count": 2,
     "metadata": {},
     "output_type": "execute_result"
    }
   ],
   "source": [
    "x0,s,b,x = var('x0 s b x')\n",
    "\n",
    "H = ((x - x0)^2)/(2*s^2) + b*x^4\n",
    "\n",
    "# H at x = 0\n",
    "H_0 = H.subs(x = 0)\n",
    "# H prime at x = 0\n",
    "H_p1 = diff(H, x).subs(x = 0)\n",
    "# H double prime at x = 0\n",
    "H_p2 = diff(H, x, 2).subs(x = 0)\n",
    "# H triple prime at x = 0\n",
    "H_p3 = diff(H, x, 3).subs(x = 0)\n",
    "# H quadruple prime at x = 0\n",
    "H_p4 = diff(H, x, 4).subs(x = 0)\n",
    "# H quintuple prime at x = 0\n",
    "H_p5 = diff(H, x, 5).subs(x = 0)\n",
    "\n",
    "# Taylor expansion of H at x = 0\n",
    "H_taylor = H_0 + H_p1*x + H_p2*x^2/2 + H_p3*x^3/6 + H_p4*x^4/24 + H_p5*x^5/120\n",
    "H_taylor\n"
   ]
  },
  {
   "cell_type": "code",
   "execution_count": null,
   "metadata": {},
   "outputs": [],
   "source": []
  }
 ],
 "metadata": {
  "kernelspec": {
   "display_name": "SageMath 10.4",
   "language": "sage",
   "name": "SageMath-10.4"
  },
  "language_info": {
   "codemirror_mode": {
    "name": "ipython",
    "version": 3
   },
   "file_extension": ".py",
   "mimetype": "text/x-python",
   "name": "sage",
   "nbconvert_exporter": "python",
   "pygments_lexer": "ipython3",
   "version": "3.12.4"
  }
 },
 "nbformat": 4,
 "nbformat_minor": 2
}

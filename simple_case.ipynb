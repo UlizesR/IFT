{
 "cells": [
  {
   "cell_type": "code",
   "execution_count": 37,
   "metadata": {},
   "outputs": [],
   "source": [
    "import numpy as np\n",
    "import matplotlib.pyplot as plt\n",
    "import math\n",
    "# import quad from scipy\n",
    "from scipy.integrate import quad"
   ]
  },
  {
   "cell_type": "code",
   "execution_count": 38,
   "metadata": {},
   "outputs": [],
   "source": [
    "x_0 = 1\n",
    "b = 0.01\n",
    "sigma = 0.5"
   ]
  },
  {
   "cell_type": "markdown",
   "metadata": {},
   "source": [
    "# IFT in  Practice: 1D case\n",
    "\n",
    "### Given $$ Q(x) = \\exp\\biggl[-\\frac{(x - x_{0})^{2}}{2\\sigma^{2}} - bx^{4}\\biggr] $$ $$P(x) = \\frac{Q(x)}{Z} = \\frac{e^{-H(x)}}{\\int_{-\\infty}^{\\infty}e^{-H(x)}dx}$$"
   ]
  },
  {
   "cell_type": "markdown",
   "metadata": {},
   "source": [
    "## Finding the Hamiltonian \n",
    "\n",
    "### We have that the Hamiltonian is given by: $$H(x) = -\\log(Q(x)) = \\frac{(x - x_{0})^{2}}{2\\sigma^{2}} + bx^{4} = \\frac{x^2 - 2xx_{0} + x_{0}^{2}}{2\\sigma^{2}} + bx^{4}$$\n",
    "\n",
    "### Taking the Taylor Expansion of the Hamiltonian is: $$H(x) = H(0) + H'(0) + H''(0) + \\sum_{n=3}^{\\infty} \\frac{1}{n!}H^{(n)}(0)$$\n",
    "\n",
    "### Where $$H(0) = \\frac{x_{0}^{2}}{2\\sigma^{2}}$$ $$H'(0) = -\\frac{x_{0}}{\\sigma^{2}}$$ $$H''(0) = \\frac{1}{\\sigma^{2}}$$ $$H^{(4)}(0) = 4!b$$ $$H^{(n) \\geq 5} = H^{(n) = 3} = 0$$\n",
    "\n",
    "### So we get $$H(x) = \\frac{x_{0}^{2}}{2\\sigma^{2}} -\\frac{x_{0}}{\\sigma^{2}}x + \\frac{1}{\\sigma^{2}}\\frac{x^{2}}{2!} + bx^{4}$$"
   ]
  },
  {
   "cell_type": "code",
   "execution_count": 39,
   "metadata": {},
   "outputs": [],
   "source": [
    "def Hamiltonian(x0: float, x:float, sigma: float, b: float) -> float:\n",
    "    H0 = 0.5 * x0**2\n",
    "    H_p1 =  ((x0**2) * x) / (2 * sigma**2)\n",
    "    H_p2 = x / (2 * sigma**2) \n",
    "    H_p4 = b * (x**4)\n",
    "\n",
    "    return H0 + H_p1 + H_p2 + H_p4"
   ]
  },
  {
   "cell_type": "markdown",
   "metadata": {},
   "source": [
    "## Finding the Partion Function $Z$\n",
    "\n",
    "$$a = \\frac{1}{2\\sigma^{2}}$$\n",
    "$$a^{-1} = 2\\sigma^{2}$$\n",
    "\n",
    "Given \n",
    "$$\n",
    "\\int_{-\\infty}^{\\infty}x^{n}e^{-ax^2}dx = \\frac{(n-1)(n-3)\\dots 3 \\cdot 1}{2^{\\frac{n}{2}+1}a^{\\frac{n}{2}}}\\sqrt{\\frac{\\pi}{a}}\n",
    "$$\n",
    "For $m = 4n$\n",
    "$$\n",
    "\\frac{(4n-1)(4n-3)\\dots 3 \\cdot 1}{2^{2n+1}a^{2n}}\\sqrt{\\frac{\\pi}{a}}\n",
    "$$ \n",
    "for $n = 2 \\mod 0$\n",
    "\\begin{align*}\n",
    "Z &= \\int_{-\\infty}^{\\infty}e^{-H(x)}dx \\\\\n",
    "&= \\int_{-\\infty}^{\\infty} \\exp\\biggl[-\\frac{(x - x_{0})^{2}}{2\\sigma^{2}} - bx^{4}\\biggr] dx \\\\\n",
    "&= \\int_{-\\infty}^{\\infty} \\exp\\biggl[-\\frac{(x - x_{0})^{2}}{2\\sigma^{2}} \\biggr]\\exp[- bx^{4}] dx \\\\\n",
    "&= \\int_{-\\infty}^{\\infty} \\exp\\biggl[-\\frac{(x - x_{0})^{2}}{2\\sigma^{2}} \\biggr]\\sum_{n=0}^{\\infty} \\frac{(-bx^{4})^{n}}{n!} \\\\\n",
    "&= \\int_{-\\infty}^{\\infty} \\exp\\biggl[-\\frac{(x - x_{0})^{2}}{2\\sigma^{2}} \\biggr]\\biggl(1 - bx^{4} + \\frac{b^{2}x^{8}}{2} - \\dots \\biggr) \\\\ \n",
    "&= \\int_{-\\infty}^{\\infty} \\exp\\biggl[-\\frac{(x - x_{0})^{2}}{2\\sigma^{2}} \\biggr]dx - b\\int_{-\\infty}^{\\infty} \\exp\\biggl[-\\frac{(x - x_{0})^{2}}{2\\sigma^{2}} \\biggr]x^{4} dx + \\frac{b^{2}}{2}\\int_{-\\infty}^{\\infty} \\exp\\biggl[-\\frac{(x - x_{0})^{2}}{2\\sigma^{2}} \\biggr]x^{8}dx - \\cdots\\\\\n",
    "&= \\sum_{n=0}^{\\infty} \\frac{(-1)^{n}b^{n}}{n!}\\int_{-\\infty}^{\\infty} \\exp\\biggl[-\\frac{(x - x_{0})^{2}}{2\\sigma^{2}} \\biggr]x^{4n}dx \\\\\n",
    "&= \\sum_{n=0}^{\\infty} \\frac{(-1)^{n}b^{n}}{n!}\\frac{(4n-1)(4n-3)\\dots 3 \\cdot 1}{2^{2n+1}(\\frac{1}{2\\sigma^{2}})^{2n}}\\sqrt{\\frac{\\pi}{\\frac{1}{2\\sigma^{2}}}} \\\\\n",
    "&= \\sum_{n=0}^{\\infty} \\frac{(-1)^{n}b^{n}}{n!}\\frac{(4n-1)(4n-3)\\dots 3 \\cdot 1}{2(\\frac{1}{\\sigma^{4n}})}\\sqrt{2\\pi\\sigma^{2}} \\\\\n",
    "&= \\sum_{n=0}^{\\infty} \\frac{(-1)^{n}b^{n}}{n!}\\frac{(4n-1)(4n-3)\\dots 3 \\cdot 1}{2}\\sigma^{4n}\\sqrt{2\\pi\\sigma^{2}} \\\\\n",
    "&= \\frac{\\sqrt{2\\pi\\sigma^{2}}}{2}\\sum_{n=0}^{\\infty} \\frac{(-1)^{n}b^{n}}{n!}((4n-1)(4n-3)\\dots 3 \\cdot 1)\\sigma^{4n}\n",
    "\\end{align*}\n",
    "\n"
   ]
  },
  {
   "cell_type": "code",
   "execution_count": 40,
   "metadata": {},
   "outputs": [],
   "source": [
    "def Za(sigma: float, N: int, b: float) -> float:\n",
    "    const = math.sqrt(2 * math.pi * (sigma**2)) \n",
    "    const /= 2\n",
    "    result = 0\n",
    "    for n in range(N+1):\n",
    "        sign = (-1)**n\n",
    "        b_n = b**(n)\n",
    "        n_fact = math.factorial(n)\n",
    "        n_fact = 1 / n_fact\n",
    "        sigma_n = sigma**(4*n)\n",
    "        fact_4n = math.prod(4*n - k for k in range(1, n+1, 2))\n",
    "        result += sign * b_n * n_fact * sigma_n * fact_4n\n",
    "\n",
    "    return result * const\n",
    "\n",
    "def Zift(sigma: float, N: int, b: float) -> float:\n",
    "    pass\n",
    "\n"
   ]
  },
  {
   "cell_type": "code",
   "execution_count": 41,
   "metadata": {},
   "outputs": [
    {
     "name": "stdout",
     "output_type": "stream",
     "text": [
      "0.625482940888127\n"
     ]
    }
   ],
   "source": [
    "Z = Za(sigma, 200, b)\n",
    "print(Z)"
   ]
  },
  {
   "cell_type": "code",
   "execution_count": 43,
   "metadata": {},
   "outputs": [
    {
     "data": {
      "image/png": "[encoded data removed]",
      "text/plain": [
       "<Figure size 640x480 with 1 Axes>"
      ]
     },
     "metadata": {},
     "output_type": "display_data"
    }
   ],
   "source": [
    "x = np.linspace(-10, 5, 1000)\n",
    "Q = [np.exp(-Hamiltonian(x_0, xi, sigma, b)) for xi in x]\n",
    "P = [q / Z for q in Q]\n",
    "plt.plot(x, P, label='H(x)')\n",
    "plt.legend()\n",
    "plt.show()"
   ]
  },
  {
   "cell_type": "code",
   "execution_count": null,
   "metadata": {},
   "outputs": [],
   "source": []
  }
 ],
 "metadata": {
  "kernelspec": {
   "display_name": ".venv",
   "language": "python",
   "name": "python3"
  },
  "language_info": {
   "codemirror_mode": {
    "name": "ipython",
    "version": 3
   },
   "file_extension": ".py",
   "mimetype": "text/x-python",
   "name": "python",
   "nbconvert_exporter": "python",
   "pygments_lexer": "ipython3",
   "version": "3.11.10"
  }
 },
 "nbformat": 4,
 "nbformat_minor": 2
}

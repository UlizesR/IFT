{
 "cells": [
  {
   "cell_type": "code",
   "execution_count": 1,
   "metadata": {},
   "outputs": [
    {
     "name": "stderr",
     "output_type": "stream",
     "text": [
      "WARNING (pytensor.tensor.blas): Using NumPy C-API based implementation for BLAS functions.\n"
     ]
    }
   ],
   "source": [
    "from math import log\n",
    "import numpy as np\n",
    "import matplotlib.pyplot as plt\n",
    "\n",
    "from scipy.optimize import fsolve\n",
    "from scipy.integrate import nquad, quad\n",
    "from scipy.special import logsumexp\n",
    "import scipy.stats as st\n",
    "\n",
    "import pymc as pm\n",
    "import arviz as az\n",
    "import seaborn as sb"
   ]
  },
  {
   "cell_type": "code",
   "execution_count": 2,
   "metadata": {},
   "outputs": [],
   "source": [
    "np.random.seed(42)\n",
    "N = 500\n",
    "X_vec = np.random.uniform(-10,10,N)\n",
    "true_beta = 2\n",
    "true_sigma = 5\n",
    "epsilon = np.random.randn(N) * true_sigma\n",
    "y_vec = X_vec * true_beta + epsilon\n",
    "S_1 = 400\n",
    "sig2 = 10"
   ]
  },
  {
   "cell_type": "code",
   "execution_count": 3,
   "metadata": {},
   "outputs": [
    {
     "name": "stderr",
     "output_type": "stream",
     "text": [
      "Auto-assigning NUTS sampler...\n",
      "Initializing NUTS using jitter+adapt_diag...\n",
      "Multiprocess sampling (4 chains in 4 jobs)\n",
      "NUTS: [beta, log_sigma2]\n"
     ]
    },
    {
     "data": {
      "text/html": [
       "<pre style=\"white-space:pre;overflow-x:auto;line-height:normal;font-family:Menlo,'DejaVu Sans Mono',consolas,'Courier New',monospace\">/Users/uliraudales/Desktop/Research/IFT/IFT_Code/.venv/lib/python3.11/site-packages/rich/live.py:231: UserWarning: \n",
       "install \"ipywidgets\" for Jupyter support\n",
       "  warnings.warn('install \"ipywidgets\" for Jupyter support')\n",
       "</pre>\n"
      ],
      "text/plain": [
       "/Users/uliraudales/Desktop/Research/IFT/IFT_Code/.venv/lib/python3.11/site-packages/rich/live.py:231: UserWarning: \n",
       "install \"ipywidgets\" for Jupyter support\n",
       "  warnings.warn('install \"ipywidgets\" for Jupyter support')\n"
      ]
     },
     "metadata": {},
     "output_type": "display_data"
    },
    {
     "data": {
      "text/html": [
       "<pre style=\"white-space:pre;overflow-x:auto;line-height:normal;font-family:Menlo,'DejaVu Sans Mono',consolas,'Courier New',monospace\"></pre>\n"
      ],
      "text/plain": []
     },
     "metadata": {},
     "output_type": "display_data"
    },
    {
     "name": "stderr",
     "output_type": "stream",
     "text": [
      "Sampling 4 chains for 1_000 tune and 1_000 draw iterations (4_000 + 4_000 draws total) took 1 seconds.\n"
     ]
    },
    {
     "data": {
      "text/html": [
       "<pre style=\"white-space:pre;overflow-x:auto;line-height:normal;font-family:Menlo,'DejaVu Sans Mono',consolas,'Courier New',monospace\">/Users/uliraudales/Desktop/Research/IFT/IFT_Code/.venv/lib/python3.11/site-packages/rich/live.py:231: UserWarning: \n",
       "install \"ipywidgets\" for Jupyter support\n",
       "  warnings.warn('install \"ipywidgets\" for Jupyter support')\n",
       "</pre>\n"
      ],
      "text/plain": [
       "/Users/uliraudales/Desktop/Research/IFT/IFT_Code/.venv/lib/python3.11/site-packages/rich/live.py:231: UserWarning: \n",
       "install \"ipywidgets\" for Jupyter support\n",
       "  warnings.warn('install \"ipywidgets\" for Jupyter support')\n"
      ]
     },
     "metadata": {},
     "output_type": "display_data"
    },
    {
     "data": {
      "text/html": [
       "<pre style=\"white-space:pre;overflow-x:auto;line-height:normal;font-family:Menlo,'DejaVu Sans Mono',consolas,'Courier New',monospace\"></pre>\n"
      ],
      "text/plain": []
     },
     "metadata": {},
     "output_type": "display_data"
    },
    {
     "name": "stdout",
     "output_type": "stream",
     "text": [
      "Computed from 4000 posterior samples and 500 observations log-likelihood matrix.\n",
      "\n",
      "         Estimate       SE\n",
      "elpd_loo -1518.15    15.00\n",
      "p_loo        2.09        -\n",
      "------\n",
      "\n",
      "Pareto k diagnostic values:\n",
      "                         Count   Pct.\n",
      "(-Inf, 0.70]   (good)      500  100.0%\n",
      "   (0.70, 1]   (bad)         0    0.0%\n",
      "   (1, Inf)   (very bad)    0    0.0%\n",
      "\n"
     ]
    }
   ],
   "source": [
    "# Define the model\n",
    "with pm.Model() as model:\n",
    "    # Priors\n",
    "    beta = pm.Normal('beta', mu=0, sigma=np.sqrt(S_1))\n",
    "    log_sigma2 = pm.Normal('log_sigma2', mu=0, sigma=(sig2))\n",
    "    sigma2 = pm.Deterministic('sigma2', pm.math.exp(log_sigma2))\n",
    "    sigma = pm.Deterministic('sigma', pm.math.sqrt(sigma2))\n",
    "    \n",
    "    # Likelihood\n",
    "    likelihood = pm.Normal('y', mu=X_vec * beta, sigma=sigma, observed=y_vec)\n",
    "    \n",
    "    # Sampling\n",
    "    trace = pm.sample(1000, tune=1000, chains=4, return_inferencedata=True)\n",
    "    \n",
    "    # Compute log likelihood\n",
    "    log_likelihood = pm.compute_log_likelihood(trace)\n",
    "    \n",
    "    # Estimating marginal likelihood using logp and LOO-CV\n",
    "    loo_result = az.loo(trace, pointwise=True)\n",
    "    print(loo_result)"
   ]
  },
  {
   "cell_type": "code",
   "execution_count": 4,
   "metadata": {},
   "outputs": [
    {
     "name": "stdout",
     "output_type": "stream",
     "text": [
      "<xarray.Dataset> Size: 136kB\n",
      "Dimensions:     (chain: 4, draw: 1000)\n",
      "Coordinates:\n",
      "  * chain       (chain) int64 32B 0 1 2 3\n",
      "  * draw        (draw) int64 8kB 0 1 2 3 4 5 6 7 ... 993 994 995 996 997 998 999\n",
      "Data variables:\n",
      "    beta        (chain, draw) float64 32kB 2.076 2.09 2.0 ... 2.085 2.05 2.1\n",
      "    log_sigma2  (chain, draw) float64 32kB 3.213 3.253 3.239 ... 3.202 3.214\n",
      "    sigma       (chain, draw) float64 32kB 4.986 5.087 5.052 ... 4.959 4.988\n",
      "    sigma2      (chain, draw) float64 32kB 24.86 25.88 25.52 ... 24.59 24.88\n",
      "Attributes:\n",
      "    created_at:                 2024-09-20T18:10:50.913466+00:00\n",
      "    arviz_version:              0.19.0\n",
      "    inference_library:          pymc\n",
      "    inference_library_version:  5.16.2\n",
      "    sampling_time:              1.4769182205200195\n",
      "    tuning_steps:               1000\n"
     ]
    }
   ],
   "source": [
    "# Access posterior samples\n",
    "posterior_samples = trace.posterior\n",
    "\n",
    "# Variables in the posterior\n",
    "print(posterior_samples)"
   ]
  },
  {
   "cell_type": "code",
   "execution_count": 5,
   "metadata": {},
   "outputs": [],
   "source": [
    "L = 1000\n",
    "\n",
    "# Flatten the chains and draws to get a single dimension\n",
    "beta_samples = posterior_samples['beta'].values.flatten()\n",
    "sigma_samples = posterior_samples['sigma'].values.flatten()\n",
    "\n",
    "# Total available samples\n",
    "total_samples = beta_samples.shape[0]  # Should be 4000\n",
    "\n",
    "# Check if L is less than or equal to total_samples\n",
    "if L > total_samples:\n",
    "    print(f\"Requested {L} samples, but only {total_samples} are available.\")\n",
    "    L = total_samples\n",
    "\n",
    "# Obtain L posterior draws\n",
    "beta_L_samples = beta_samples[:L]\n",
    "sigma_L_samples = sigma_samples[:L]\n"
   ]
  },
  {
   "cell_type": "code",
   "execution_count": 6,
   "metadata": {},
   "outputs": [
    {
     "name": "stdout",
     "output_type": "stream",
     "text": [
      "Posterior mean of beta (based on 1000 samples): 2.0583383434226126\n",
      "Posterior mean of sigma (based on 1000 samples): 5.031032657947175\n"
     ]
    }
   ],
   "source": [
    "# Example: Calculate posterior mean estimates\n",
    "beta_mean = np.mean(beta_L_samples)\n",
    "sigma_mean = np.mean(sigma_L_samples)\n",
    "\n",
    "print(f\"Posterior mean of beta (based on {L} samples): {beta_mean}\")\n",
    "print(f\"Posterior mean of sigma (based on {L} samples): {sigma_mean}\")\n"
   ]
  },
  {
   "cell_type": "code",
   "execution_count": 7,
   "metadata": {},
   "outputs": [
    {
     "name": "stdout",
     "output_type": "stream",
     "text": [
      "Estimated log marginal likelihood: -1518.2216971423475\n"
     ]
    }
   ],
   "source": [
    "# Recalculate log likelihood manually\n",
    "beta_samples = trace.posterior['beta'].values\n",
    "sigma_samples = trace.posterior['sigma'].values\n",
    "\n",
    "# Recalculate the log likelihood for each sample\n",
    "log_likelihoods = []\n",
    "for beta, sigma in zip(beta_samples.flatten(), sigma_samples.flatten()):\n",
    "    logp = np.sum(-0.5 * np.log(2 * np.pi * (sigma ** 2)) - ((y_vec - X_vec * beta) ** 2) / (2 * (sigma ** 2)))\n",
    "    log_likelihoods.append(logp)\n",
    "\n",
    "log_likelihoods = np.array(log_likelihoods)\n",
    "\n",
    "# Calculate the log marginal likelihood using the harmonic mean\n",
    "log_ml = -logsumexp(-log_likelihoods) + np.log(len(log_likelihoods))\n",
    "\n",
    "print(f\"Estimated log marginal likelihood: {log_ml}\")"
   ]
  },
  {
   "cell_type": "code",
   "execution_count": null,
   "metadata": {},
   "outputs": [],
   "source": []
  }
 ],
 "metadata": {
  "kernelspec": {
   "display_name": ".venv",
   "language": "python",
   "name": "python3"
  },
  "language_info": {
   "codemirror_mode": {
    "name": "ipython",
    "version": 3
   },
   "file_extension": ".py",
   "mimetype": "text/x-python",
   "name": "python",
   "nbconvert_exporter": "python",
   "pygments_lexer": "ipython3",
   "version": "3.11.10"
  }
 },
 "nbformat": 4,
 "nbformat_minor": 2
}

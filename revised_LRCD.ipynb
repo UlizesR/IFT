{
 "cells": [
  {
   "cell_type": "code",
   "execution_count": 1,
   "metadata": {},
   "outputs": [
    {
     "name": "stderr",
     "output_type": "stream",
     "text": [
      "WARNING (pytensor.tensor.blas): Using NumPy C-API based implementation for BLAS functions.\n"
     ]
    }
   ],
   "source": [
    "import matplotlib.pyplot as plt\n",
    "from math import log\n",
    "import itertools\n",
    "import numpy as np\n",
    "\n",
    "from scipy.optimize import fsolve\n",
    "from scipy.integrate import nquad, quad\n",
    "from scipy.stats import norm\n",
    "import pymc as pm\n",
    "import arviz as az\n",
    "import seaborn as sb"
   ]
  },
  {
   "cell_type": "markdown",
   "metadata": {},
   "source": [
    "## Harmonic Mean Estimator\n",
    "\n",
    "### $$ \\rho = \\mathbb{E}_{p(\\theta \\mid y)}\\biggl[ \\frac{1}{\\mathcal{L}(\\theta)} \\biggr] = \\int d\\theta \\frac{1}{\\mathcal{L}(\\theta)}p(\\theta \\mid y) = \\int \\frac{1}{\\mathcal{L}(\\theta)} \\frac{\\mathcal{L}(\\theta)\\pi(\\theta)}{z} = \\frac{1}{z} $$\n"
   ]
  },
  {
   "cell_type": "code",
   "execution_count": null,
   "metadata": {},
   "outputs": [],
   "source": [
    "def HME_V(likelihood, prior):\n",
    "    pass \n",
    "\n",
    "def HME(likelihood, prior):\n",
    "    pass"
   ]
  },
  {
   "cell_type": "markdown",
   "metadata": {},
   "source": [
    "## Linear Regression \n",
    "\n"
   ]
  },
  {
   "cell_type": "code",
   "execution_count": null,
   "metadata": {},
   "outputs": [],
   "source": []
  }
 ],
 "metadata": {
  "kernelspec": {
   "display_name": ".venv",
   "language": "python",
   "name": "python3"
  },
  "language_info": {
   "codemirror_mode": {
    "name": "ipython",
    "version": 3
   },
   "file_extension": ".py",
   "mimetype": "text/x-python",
   "name": "python",
   "nbconvert_exporter": "python",
   "pygments_lexer": "ipython3",
   "version": "3.11.10"
  }
 },
 "nbformat": 4,
 "nbformat_minor": 2
}
